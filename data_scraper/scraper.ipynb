{
 "cells": [
  {
   "cell_type": "code",
   "execution_count": 5,
   "metadata": {},
   "outputs": [],
   "source": [
    "import pandas as pd\n",
    "import numpy as np\n",
    "import matplotlib.pyplot as plt\n",
    "import requests\n",
    "import os\n",
    "import json\n",
    "import string\n",
    "from bs4 import BeautifulSoup"
   ]
  },
  {
   "cell_type": "code",
   "execution_count": 57,
   "metadata": {},
   "outputs": [],
   "source": [
    "headers = {\n",
    "    \"User-Agent\": \"Mozilla/5.0 (Windows NT 10.0; Win64; x64) AppleWebKit/537.36 (KHTML, like Gecko) Chrome/120.0.0.0 Safari/537.36\"\n",
    "}\n",
    "intital_url = \"https://catalog.northeastern.edu/\""
   ]
  },
  {
   "cell_type": "code",
   "execution_count": null,
   "metadata": {},
   "outputs": [],
   "source": [
    "import requests\n",
    "from bs4 import BeautifulSoup\n",
    "\n",
    "initial_url = \"https://catalog.northeastern.edu/\" \n",
    "stack = [initial_url]\n",
    "content = {initial_url: \"\"}\n",
    "hashed_content = set()\n",
    "while stack:\n",
    "    current_url = stack.pop()\n",
    "    try:\n",
    "        resp = requests.get(current_url)\n",
    "        soup = BeautifulSoup(resp.content, 'html.parser')\n",
    "    except Exception as e:\n",
    "        print(f\"Failed to fetch {current_url}: {e}\")\n",
    "        continue\n",
    "    page_text = soup.get_text()\n",
    "    hashu = hash(page_text)\n",
    "    if hashu in hashed_content:\n",
    "        continue\n",
    "    content[current_url] = page_text\n",
    "    hashed_content.add(hashu)\n",
    "\n",
    "    for link in soup.find_all(\"a\"):\n",
    "        href = link.get(\"href\")\n",
    "        if not href:\n",
    "            continue\n",
    "        if not href.startswith(\"http\"):\n",
    "            href_mod = current_url.rstrip(\"/\") + href\n",
    "        else:\n",
    "            href_mod = href\n",
    "        if href_mod not in content and \"catalog.northeastern.edu\" in href_mod:\n",
    "            stack.append(href_mod)"
   ]
  },
  {
   "cell_type": "code",
   "execution_count": null,
   "metadata": {},
   "outputs": [],
   "source": []
  },
  {
   "cell_type": "code",
   "execution_count": 69,
   "metadata": {},
   "outputs": [
    {
     "data": {
      "text/plain": [
       "-5471933047732663996"
      ]
     },
     "execution_count": 69,
     "metadata": {},
     "output_type": "execute_result"
    }
   ],
   "source": [
    "hashu"
   ]
  },
  {
   "cell_type": "code",
   "execution_count": 68,
   "metadata": {},
   "outputs": [
    {
     "data": {
      "text/plain": [
       "{-8271071836808361532,\n",
       " -6020870834579705323,\n",
       " -5676041930577360454,\n",
       " -5471933047732663996,\n",
       " -2933986531178979985,\n",
       " -2177678586638570799,\n",
       " -935935526734637099,\n",
       " 885639275353931912,\n",
       " 1516495398068484658,\n",
       " 7432023000780090489,\n",
       " 8376406810893682151}"
      ]
     },
     "execution_count": 68,
     "metadata": {},
     "output_type": "execute_result"
    }
   ],
   "source": [
    "hashed_content"
   ]
  }
 ],
 "metadata": {
  "kernelspec": {
   "display_name": "base",
   "language": "python",
   "name": "python3"
  },
  "language_info": {
   "codemirror_mode": {
    "name": "ipython",
    "version": 3
   },
   "file_extension": ".py",
   "mimetype": "text/x-python",
   "name": "python",
   "nbconvert_exporter": "python",
   "pygments_lexer": "ipython3",
   "version": "3.11.9"
  }
 },
 "nbformat": 4,
 "nbformat_minor": 2
}
