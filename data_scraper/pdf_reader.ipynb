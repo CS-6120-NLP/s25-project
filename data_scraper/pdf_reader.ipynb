{
 "cells": [
  {
   "cell_type": "code",
   "execution_count": 4,
   "metadata": {},
   "outputs": [
    {
     "name": "stdout",
     "output_type": "stream",
     "text": [
      "Downloaded Graduate_Catalog.pdf\n",
      "Downloaded Undergraduate_Day_Catalog.pdf\n",
      "Downloaded CPS_Undergraduate_Catalog.pdf\n"
     ]
    }
   ],
   "source": [
    "import requests\n",
    "\n",
    "urls = [\n",
    "    \"https://catalog.northeastern.edu/pdf/Northeastern%20University%202023-2024%20Graduate%20Catalog.pdf\",\n",
    "    \"https://catalog.northeastern.edu/pdf/Northeastern%20University%202023-2024%20Undergraduate%20Day%20Catalog.pdf\",\n",
    "    \"https://catalog.northeastern.edu/pdf/Northeastern%20University%202023-2024%20CPS%20Undergraduate%20Catalog.pdf\"\n",
    "]\n",
    "\n",
    "filenames = [\n",
    "    \"Graduate_Catalog.pdf\",\n",
    "    \"Undergraduate_Day_Catalog.pdf\",\n",
    "    \"CPS_Undergraduate_Catalog.pdf\"\n",
    "]\n",
    "\n",
    "for url, fname in zip(urls, filenames):\n",
    "    response = requests.get(url)\n",
    "    with open(fname, \"wb\") as f:\n",
    "        f.write(response.content)\n",
    "    print(f\"Downloaded {fname}\")"
   ]
  }
 ],
 "metadata": {
  "kernelspec": {
   "display_name": "base",
   "language": "python",
   "name": "python3"
  },
  "language_info": {
   "codemirror_mode": {
    "name": "ipython",
    "version": 3
   },
   "file_extension": ".py",
   "mimetype": "text/x-python",
   "name": "python",
   "nbconvert_exporter": "python",
   "pygments_lexer": "ipython3",
   "version": "3.11.9"
  }
 },
 "nbformat": 4,
 "nbformat_minor": 2
}
