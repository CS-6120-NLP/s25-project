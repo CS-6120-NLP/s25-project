{
 "cells": [
  {
   "cell_type": "code",
   "execution_count": 3,
   "id": "128219eb",
   "metadata": {},
   "outputs": [],
   "source": [
    "pdf_file_path = \"D:/CS6120/final_project/nlp-s25-project/data_scraper/Graduate_Catalog.pdf\""
   ]
  },
  {
   "cell_type": "code",
   "execution_count": 4,
   "id": "ede59e5d",
   "metadata": {},
   "outputs": [],
   "source": [
    "# from langchain_unstructured import UnstructuredLoader\n",
    "# import getpass\n",
    "# import os\n",
    "\n",
    "# if \"UNSTRUCTURED_API_KEY\" not in os.environ:\n",
    "#     os.environ[\"UNSTRUCTURED_API_KEY\"] = getpass.getpass(\n",
    "#         \"A87XlsGwMwX7ZsT5DEegBXl95DF1Aa\"\n",
    "#     )\n",
    "\n",
    "# loader = UnstructuredLoader(\n",
    "#     file_path=pdf_file_path,\n",
    "#     strategy = 'hi-res',\n",
    "#     partition_via_api=True,\n",
    "#     coordinates=True\n",
    "# )\n",
    "\n",
    "# docs = []\n",
    "# for doc in loader.lazy_load():\n",
    "#     docs.append(doc)"
   ]
  },
  {
   "cell_type": "code",
   "execution_count": null,
   "id": "95a9dae7",
   "metadata": {},
   "outputs": [
    {
     "name": "stdout",
     "output_type": "stream",
     "text": [
      "Northeastern University 2023-2024 Graduate Catalog 17\n",
      "Information for Entering Students\n",
      "Graduate education at Northeastern University integrates the highest level of scholarship across disciplinary boundaries with signiﬁcant research and\n",
      "experiential learning opportunities in Boston and around the world. Northeastern offers hundreds of graduate programs, ranging from doctoral and\n",
      "full-time master’s programs to part-time programs and graduate certiﬁcates, including an array of innovative PhD and master’s programs designed to\n",
      "prepare students for emerging new ﬁelds. Students are able to take courses on campus, online, or in hybrid formats. This multidimensional learning\n",
      "environment offers students the knowledge and experience to excel and the flexibility to create the educational experience that best meets their\n",
      "needs. Our graduates are well positioned to meet the diverse demands of careers in academia, industry, and the professions.\n",
      "•Academic Resources (p. 18)\n",
      "•Campus Resources (p. 21)\n",
      "•Information for International Students  (p. 28)\n",
      "•Information Technology Services (p. 29)\n",
      "•Off Campus Engagement and Support (p. 30)\n",
      "•Ofﬁce of the University Registrar (p. 20)\n",
      "\n",
      "Information for Entering Students\n",
      "Graduate education at Northeastern University integrates the highest level of scholarship across disciplinary boundaries with signiﬁcant research and\n",
      "experiential learning opportunities in Boston and around the world. Northeastern offers hundreds of graduate programs, ranging from doctoral and\n",
      "full-time master’s programs to part-time programs and graduate certiﬁcates, including an array of innovative PhD and master’s programs designed to\n",
      "prepare students for emerging new ﬁelds. Students are able to take courses on campus, online, or in hybrid formats. This multidimensional learning\n",
      "environment offers students the knowledge and experience to excel and the flexibility to create the educational experience that best meets their\n",
      "needs. Our graduates are well positioned to meet the diverse demands of careers in academia, industry, and the professions.\n",
      "•Academic Resources (p. 18)\n",
      "•Campus Resources (p. 21)\n",
      "•Information for International Students  (p. 28)\n",
      "•Information Technology Services (p. 29)\n",
      "•Off Campus Engagement and Support (p. 30)\n",
      "•Ofﬁce of the University Registrar (p. 20)\n"
     ]
    }
   ],
   "source": [
    "from PyPDF2 import PdfReader\n",
    "\n",
    "reader = PdfReader(pdf_file_path)\n",
    "number_of_pages = len(reader.pages)\n",
    "page = reader.pages[17]\n",
    "text = page.extract_text()\n",
    "print(text)\n",
    "replace_string='Northeastern University 2023-2024 Graduate Catalog'\n",
    "pg='17'\n",
    "text.split(\"\\n\")\n",
    "print(text.replace(f\"{replace_string} {pg}\", \"\"))"
   ]
  },
  {
   "cell_type": "code",
   "execution_count": 25,
   "id": "19628d2b",
   "metadata": {},
   "outputs": [
    {
     "name": "stdout",
     "output_type": "stream",
     "text": [
      "1339\n"
     ]
    }
   ],
   "source": [
    "big = 0\n",
    "for pg in range(number_of_pages):\n",
    "    length_page = len(reader.pages[pg].extract_text().split())\n",
    "    if big < length_page:\n",
    "        big = length_page\n",
    "print(big)\n"
   ]
  },
  {
   "cell_type": "code",
   "execution_count": 59,
   "id": "a4c214d8",
   "metadata": {},
   "outputs": [],
   "source": [
    "def preprocess_text(text):\n",
    "    text = text.replace(\"\\xa0\",\" \")\n",
    "    text = text.replace(\"..\",\"\")\n",
    "    return text"
   ]
  },
  {
   "cell_type": "code",
   "execution_count": 105,
   "id": "1d0c746f",
   "metadata": {},
   "outputs": [],
   "source": [
    "# we need id, title, heading, prev_heading, pg_no, \n",
    "data_catalogue = []\n",
    "id=1000\n",
    "title = \"Graduate_Catalog\"\n",
    "prev_heading = \"\"\n",
    "heading = \"\"\n",
    "replace_string = \"Northeastern University 2023-2024 Graduate Catalog\"\n",
    "pg = 16\n",
    "chunk_length = 250\n",
    "while pg<number_of_pages:\n",
    "    page = reader.pages[pg]\n",
    "    text = page.extract_text()\n",
    "    text = preprocess_text(text)\n",
    "    split_by_newline = text.split(\"\\n\")\n",
    "    stretch = 1 if pg%2 == 0 else 2\n",
    "    heading = \" \".join(split_by_newline[:stretch]).replace(f\"{replace_string} {pg}\", \"\").replace(f\"{pg}\",\"\").strip()\n",
    "    rest_of_text = \"\\n\".join(split_by_newline[stretch:]).split()\n",
    "    le = len(rest_of_text)\n",
    "    for i in range((le//chunk_length)+1):\n",
    "        text_chunk = \" \".join(rest_of_text[i*chunk_length:min((i+1)*chunk_length, le)])\n",
    "        data_dict={}\n",
    "        data_dict['title'] = title\n",
    "        data_dict['pg_no'] = pg\n",
    "        data_dict['heading'] = heading\n",
    "        data_dict['prev_heading'] = prev_heading\n",
    "        data_dict['id'] = f\"id_{id}\"\n",
    "        data_dict['chunk'] = text_chunk\n",
    "        data_catalogue.append(data_dict)\n",
    "        id+=1\n",
    "    prev_heading = heading\n",
    "    pg+=1"
   ]
  },
  {
   "cell_type": "code",
   "execution_count": 110,
   "id": "466b89d6",
   "metadata": {},
   "outputs": [],
   "source": [
    "import chromadb\n",
    "chroma_client = chromadb.PersistentClient(path=\"./chroma_db\")\n",
    "collection = chroma_client.get_or_create_collection(name=\"husky_bot_docs\")"
   ]
  },
  {
   "cell_type": "code",
   "execution_count": 111,
   "id": "35510fa8",
   "metadata": {},
   "outputs": [
    {
     "name": "stderr",
     "output_type": "stream",
     "text": [
      "C:\\Users\\surya\\.cache\\chroma\\onnx_models\\all-MiniLM-L6-v2\\onnx.tar.gz: 100%|██████████| 79.3M/79.3M [00:17<00:00, 4.74MiB/s]\n"
     ]
    }
   ],
   "source": [
    "collection.add(\n",
    "    documents=[data['chunk'] for data in data_catalogue],\n",
    "    metadatas=[{\n",
    "        'page':data['pg_no'], \n",
    "        'degree':data['title'],\n",
    "        'course':data['heading'],\n",
    "        'alt_course':data['prev_heading']\n",
    "    } for data in data_catalogue],\n",
    "    ids=[data['id'] for data in data_catalogue]\n",
    ")"
   ]
  },
  {
   "cell_type": "code",
   "execution_count": null,
   "id": "613a48da",
   "metadata": {},
   "outputs": [],
   "source": []
  }
 ],
 "metadata": {
  "kernelspec": {
   "display_name": "nlp_env",
   "language": "python",
   "name": "python3"
  },
  "language_info": {
   "codemirror_mode": {
    "name": "ipython",
    "version": 3
   },
   "file_extension": ".py",
   "mimetype": "text/x-python",
   "name": "python",
   "nbconvert_exporter": "python",
   "pygments_lexer": "ipython3",
   "version": "3.11.9"
  }
 },
 "nbformat": 4,
 "nbformat_minor": 5
}
